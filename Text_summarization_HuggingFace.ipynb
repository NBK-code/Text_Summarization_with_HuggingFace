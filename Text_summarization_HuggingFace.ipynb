{
  "nbformat": 4,
  "nbformat_minor": 0,
  "metadata": {
    "colab": {
      "name": "Text_summarization_HuggingFace.ipynb",
      "provenance": [],
      "collapsed_sections": [],
      "authorship_tag": "ABX9TyMPZNFb3Ex/+71n9IHNmDtB",
      "include_colab_link": true
    },
    "kernelspec": {
      "name": "python3",
      "display_name": "Python 3"
    },
    "language_info": {
      "name": "python"
    }
  },
  "cells": [
    {
      "cell_type": "markdown",
      "metadata": {
        "id": "view-in-github",
        "colab_type": "text"
      },
      "source": [
        "<a href=\"https://colab.research.google.com/github/NBK-code/Text_Summarization_with_HuggingFace/blob/main/Text_summarization_HuggingFace.ipynb\" target=\"_parent\"><img src=\"https://colab.research.google.com/assets/colab-badge.svg\" alt=\"Open In Colab\"/></a>"
      ]
    },
    {
      "cell_type": "markdown",
      "metadata": {
        "id": "tYzYCqPRWM94"
      },
      "source": [
        "# Text Summarization Using Huggingface Transformers"
      ]
    },
    {
      "cell_type": "markdown",
      "metadata": {
        "id": "mMige2eZR_bR"
      },
      "source": [
        "## Installing Transformers and Importing Dependencies "
      ]
    },
    {
      "cell_type": "code",
      "metadata": {
        "id": "tmbX1_fSP8pZ"
      },
      "source": [
        "! pip install transformers"
      ],
      "execution_count": null,
      "outputs": []
    },
    {
      "cell_type": "code",
      "metadata": {
        "id": "0wNBj6WSRp7B"
      },
      "source": [
        "from transformers import pipeline"
      ],
      "execution_count": 2,
      "outputs": []
    },
    {
      "cell_type": "markdown",
      "metadata": {
        "id": "VZsx-lDPSKyP"
      },
      "source": [
        "## Load Summariztion Pipeline"
      ]
    },
    {
      "cell_type": "code",
      "metadata": {
        "id": "NB-4zKP9R0VB"
      },
      "source": [
        "summarizer = pipeline('summarization')"
      ],
      "execution_count": null,
      "outputs": []
    },
    {
      "cell_type": "markdown",
      "metadata": {
        "id": "JZOWN6-RTl3q"
      },
      "source": [
        "## Summarize Text"
      ]
    },
    {
      "cell_type": "code",
      "metadata": {
        "id": "SgyvnTTPSpGp"
      },
      "source": [
        "article = \"Dom Cobb is a skilled thief, the absolute best in the dangerous art of extraction, stealing valuable secrets from deep within the subconscious during the dream state, when the mind is at its most vulnerable. Cobb's rare ability has made him a coveted player in this treacherous new world of corporate espionage, but it has also made him an international fugitive and cost him everything he has ever loved. Now Cobb is being offered a chance at redemption. One last job could give him his life back but only if he can accomplish the impossible, inception. Instead of the perfect heist, Cobb and his team of specialists have to pull off the reverse: their task is not to steal an idea, but to plant one. If they succeed, it could be the perfect crime. But no amount of careful planning or expertise can prepare the team for the dangerous enemy that seems to predict their every move. An enemy that only Cobb could have seen coming.\""
      ],
      "execution_count": 4,
      "outputs": []
    },
    {
      "cell_type": "code",
      "metadata": {
        "colab": {
          "base_uri": "https://localhost:8080/",
          "height": 137
        },
        "id": "jmMmSo89UGqe",
        "outputId": "6b57e509-ffda-4d4f-b4e5-d88982e3f262"
      },
      "source": [
        "article"
      ],
      "execution_count": 5,
      "outputs": [
        {
          "output_type": "execute_result",
          "data": {
            "application/vnd.google.colaboratory.intrinsic+json": {
              "type": "string"
            },
            "text/plain": [
              "\"Dom Cobb is a skilled thief, the absolute best in the dangerous art of extraction, stealing valuable secrets from deep within the subconscious during the dream state, when the mind is at its most vulnerable. Cobb's rare ability has made him a coveted player in this treacherous new world of corporate espionage, but it has also made him an international fugitive and cost him everything he has ever loved. Now Cobb is being offered a chance at redemption. One last job could give him his life back but only if he can accomplish the impossible, inception. Instead of the perfect heist, Cobb and his team of specialists have to pull off the reverse: their task is not to steal an idea, but to plant one. If they succeed, it could be the perfect crime. But no amount of careful planning or expertise can prepare the team for the dangerous enemy that seems to predict their every move. An enemy that only Cobb could have seen coming.\""
            ]
          },
          "metadata": {},
          "execution_count": 5
        }
      ]
    },
    {
      "cell_type": "code",
      "metadata": {
        "id": "F1UVxutdUIlw"
      },
      "source": [
        "summarized_text = summarizer(article, max_length = 100, min_length = 10, do_sample = False)\n",
        "\n",
        "# max_length ---> Maximum length of words, we want the summarizer to return\n",
        "# min_length ---> Minimum length of words, we want the summarizer to return\n",
        "# do_sample = False ---> greedy decoder and do_sample = True ---> samples from the probability distribution "
      ],
      "execution_count": 6,
      "outputs": []
    },
    {
      "cell_type": "code",
      "metadata": {
        "colab": {
          "base_uri": "https://localhost:8080/",
          "height": 69
        },
        "id": "mySGCAzYUcHV",
        "outputId": "0e34e79d-4c98-4118-a888-a271961c5c66"
      },
      "source": [
        "summarized_text[0]['summary_text']"
      ],
      "execution_count": 7,
      "outputs": [
        {
          "output_type": "execute_result",
          "data": {
            "application/vnd.google.colaboratory.intrinsic+json": {
              "type": "string"
            },
            "text/plain": [
              "\" Dom Cobb is a skilled thief, stealing valuable secrets from deep within the subconscious during the dream state . Cobb's rare ability has made him a coveted player in this treacherous new world of corporate espionage . Cobb is being offered a chance at redemption but only if he can accomplish the impossible, inception .\""
            ]
          },
          "metadata": {},
          "execution_count": 7
        }
      ]
    },
    {
      "cell_type": "code",
      "metadata": {
        "id": "JmoeOVctj3nQ"
      },
      "source": [
        ""
      ],
      "execution_count": null,
      "outputs": []
    }
  ]
}