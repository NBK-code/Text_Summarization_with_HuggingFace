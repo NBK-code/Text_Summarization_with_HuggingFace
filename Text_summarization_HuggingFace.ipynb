{
  "nbformat": 4,
  "nbformat_minor": 0,
  "metadata": {
    "colab": {
      "name": "Text_summarization_HuggingFace.ipynb",
      "provenance": [],
      "authorship_tag": "ABX9TyOGubQfcmfJ6tB+L2aICbcH",
      "include_colab_link": true
    },
    "kernelspec": {
      "name": "python3",
      "display_name": "Python 3"
    },
    "language_info": {
      "name": "python"
    }
  },
  "cells": [
    {
      "cell_type": "markdown",
      "metadata": {
        "id": "view-in-github",
        "colab_type": "text"
      },
      "source": [
        "<a href=\"https://colab.research.google.com/github/NBK-code/Text_Summarization_with_HuggingFace/blob/main/Text_summarization_HuggingFace.ipynb\" target=\"_parent\"><img src=\"https://colab.research.google.com/assets/colab-badge.svg\" alt=\"Open In Colab\"/></a>"
      ]
    },
    {
      "cell_type": "markdown",
      "metadata": {
        "id": "tYzYCqPRWM94"
      },
      "source": [
        "# Text Summarization Using Huggingface Transformers"
      ]
    },
    {
      "cell_type": "markdown",
      "metadata": {
        "id": "mMige2eZR_bR"
      },
      "source": [
        "## Installing Transformers and Importing Dependencies "
      ]
    },
    {
      "cell_type": "code",
      "metadata": {
        "id": "tmbX1_fSP8pZ"
      },
      "source": [
        "! pip install transformers"
      ],
      "execution_count": null,
      "outputs": []
    },
    {
      "cell_type": "code",
      "metadata": {
        "id": "0wNBj6WSRp7B"
      },
      "source": [
        "from transformers import pipeline"
      ],
      "execution_count": 2,
      "outputs": []
    },
    {
      "cell_type": "markdown",
      "metadata": {
        "id": "VZsx-lDPSKyP"
      },
      "source": [
        "## Load Summariztion Pipeline"
      ]
    },
    {
      "cell_type": "code",
      "metadata": {
        "id": "NB-4zKP9R0VB"
      },
      "source": [
        "summarizer = pipeline('summarization')"
      ],
      "execution_count": null,
      "outputs": []
    },
    {
      "cell_type": "markdown",
      "metadata": {
        "id": "JZOWN6-RTl3q"
      },
      "source": [
        "## Summarize Text"
      ]
    },
    {
      "cell_type": "code",
      "metadata": {
        "id": "SgyvnTTPSpGp"
      },
      "source": [
        "article = \"Recently I came across a very interesting method to generative modeling that has its foundations in Physics. Naturally I had to dig in. Generative modeling involves learning a probability distribution from the given dataset and using the learned distribution to produce new samples. Over the last few years, the state of the art results in this type of modeling were all produced by Generative Adversarial Networks (GANs). Recently, a new class of generative models called score-based models have gained attention. As it happens, the main tools of these models come from what is called the Brownian motion - the chaotic motion of a particle (like a pollen) floating on a liquid (like water). In this blog post, I will try to explain the physics principles behind score-based models. First, I will go over the physics and then come back to its connection to score-based models.\""
      ],
      "execution_count": 4,
      "outputs": []
    },
    {
      "cell_type": "code",
      "metadata": {
        "colab": {
          "base_uri": "https://localhost:8080/",
          "height": 120
        },
        "id": "jmMmSo89UGqe",
        "outputId": "f532edc1-9062-41de-f6b3-42e838e0d951"
      },
      "source": [
        "article"
      ],
      "execution_count": 5,
      "outputs": [
        {
          "output_type": "execute_result",
          "data": {
            "application/vnd.google.colaboratory.intrinsic+json": {
              "type": "string"
            },
            "text/plain": [
              "'Recently I came across a very interesting method to generative modeling that has its foundations in Physics. Naturally I had to dig in. Generative modeling involves learning a probability distribution from the given dataset and using the learned distribution to produce new samples. Over the last few years, the state of the art results in this type of modeling were all produced by Generative Adversarial Networks (GANs). Recently, a new class of generative models called score-based models have gained attention. As it happens, the main tools of these models come from what is called the Brownian motion - the chaotic motion of a particle (like a pollen) floating on a liquid (like water). In this blog post, I will try to explain the physics principles behind score-based models. First, I will go over the physics and then come back to its connection to score-based models.'"
            ]
          },
          "metadata": {},
          "execution_count": 5
        }
      ]
    },
    {
      "cell_type": "code",
      "metadata": {
        "id": "F1UVxutdUIlw"
      },
      "source": [
        "summarized_text = summarizer(article, max_length = 100, min_length = 10, do_sample = False)\n",
        "\n",
        "# max_length ---> Maximum length of words, we want the summarizer to return\n",
        "# min_length ---> Minimum length of words, we want the summarizer to return\n",
        "# do_sample = False ---> greedy decoder and do_sample = True ---> samples from the probability distribution "
      ],
      "execution_count": 11,
      "outputs": []
    },
    {
      "cell_type": "code",
      "metadata": {
        "colab": {
          "base_uri": "https://localhost:8080/",
          "height": 52
        },
        "id": "mySGCAzYUcHV",
        "outputId": "c6a09346-fbbb-472e-d076-2486370bf90d"
      },
      "source": [
        "summarized_text[0]['summary_text']"
      ],
      "execution_count": 15,
      "outputs": [
        {
          "output_type": "execute_result",
          "data": {
            "application/vnd.google.colaboratory.intrinsic+json": {
              "type": "string"
            },
            "text/plain": [
              "' Recently I came across a very interesting method to generative modeling that has its foundations in Physics . The main tools of these models come from what is called the Brownian motion - the chaotic motion of a particle (like a pollen) floating on a liquid (like water)'"
            ]
          },
          "metadata": {},
          "execution_count": 15
        }
      ]
    }
  ]
}