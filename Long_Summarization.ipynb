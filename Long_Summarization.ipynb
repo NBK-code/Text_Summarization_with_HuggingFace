{
  "nbformat": 4,
  "nbformat_minor": 0,
  "metadata": {
    "colab": {
      "name": "Long_Summarization.ipynb",
      "provenance": [],
      "authorship_tag": "ABX9TyMNuGHziKJV0v2378fDMHMl",
      "include_colab_link": true
    },
    "kernelspec": {
      "name": "python3",
      "display_name": "Python 3"
    },
    "language_info": {
      "name": "python"
    }
  },
  "cells": [
    {
      "cell_type": "markdown",
      "metadata": {
        "id": "view-in-github",
        "colab_type": "text"
      },
      "source": [
        "<a href=\"https://colab.research.google.com/github/NBK-code/Text_Summarization_with_HuggingFace/blob/main/Long_Summarization.ipynb\" target=\"_parent\"><img src=\"https://colab.research.google.com/assets/colab-badge.svg\" alt=\"Open In Colab\"/></a>"
      ]
    },
    {
      "cell_type": "code",
      "metadata": {
        "id": "yJR38VNMIjXb"
      },
      "source": [
        "! pip install transformers"
      ],
      "execution_count": null,
      "outputs": []
    },
    {
      "cell_type": "code",
      "metadata": {
        "id": "aI9kInp1Krok"
      },
      "source": [
        "from transformers import pipeline\n",
        "from bs4 import BeautifulSoup #for web scrapping\n",
        "import requests #allows us to make http calls"
      ],
      "execution_count": 2,
      "outputs": []
    },
    {
      "cell_type": "code",
      "metadata": {
        "id": "GjyzWe4sLMx0"
      },
      "source": [
        "summarizer = pipeline('summarization')"
      ],
      "execution_count": null,
      "outputs": []
    },
    {
      "cell_type": "code",
      "metadata": {
        "id": "JqCt0NkwLUYB"
      },
      "source": [
        "URL = \"https://towardsdatascience.com/10-remote-2021-2022-data-science-internships-you-should-apply-to-if-youre-a-student-b2c4e3c9ad6d\""
      ],
      "execution_count": 4,
      "outputs": []
    },
    {
      "cell_type": "code",
      "metadata": {
        "id": "mhiUTdswLvEV"
      },
      "source": [
        "r = requests.get(URL) #grabs the webpage"
      ],
      "execution_count": 5,
      "outputs": []
    },
    {
      "cell_type": "code",
      "metadata": {
        "id": "7eZ3ZLRVL4vL"
      },
      "source": [
        "soup = BeautifulSoup(r.text, 'html.parser') \n",
        "results = soup.find_all(['h1','p']) # we just searching only h1 tags and p tags"
      ],
      "execution_count": 8,
      "outputs": []
    },
    {
      "cell_type": "code",
      "metadata": {
        "id": "IDipQISfMbOb"
      },
      "source": [
        "text = [result.text for result in results]\n",
        "article = ' '.join(text)"
      ],
      "execution_count": 10,
      "outputs": []
    },
    {
      "cell_type": "code",
      "metadata": {
        "colab": {
          "base_uri": "https://localhost:8080/",
          "height": 137
        },
        "id": "Pl-FJeoIMdtb",
        "outputId": "a21b2037-8d65-44bd-c9f5-0d3c420198fb"
      },
      "source": [
        "article"
      ],
      "execution_count": 11,
      "outputs": [
        {
          "output_type": "execute_result",
          "data": {
            "application/vnd.google.colaboratory.intrinsic+json": {
              "type": "string"
            },
            "text/plain": [
              "'Sign in 10 Remote 2021/2022 Data Science Internships You Should Apply to If You’re a Student Sara A. Metwalli 15 hours ago·5 min read As a student, who has been in school almost my entire life, I always felt that the knowledge we learn in school is theoretical. That feeling only grew whenever I talked to my friends and colleagues who worked in the industry or had some experiences outside the university. This gap between what we learn in our degrees and what we actually need to succeed and build a career is one of the reasons internships are necessary for any student. Although internships are important for basically any student regardless of their major, it’s even more important if you’re a student in a tech field. In tech, we study the history of a field, the tools we can use, and some field applications. But, university classes are never enough to build a real-life experience that will help you launch a career once you graduate. Here, internships make a difference, not just helping students gain experience and know what to expect when they get a job after graduation. Still, it also helps them decide what career they want to pursue after obtaining their degree. So, if you’re a student, undergrad or post-grad, trying to get an internship, it will definitely change the way you view your field and help you get a job later. towardsdatascience.com In September of every year, companies worldwide open up the applications for the following year’s summer. So, today, I will walk you through 10 remote internship opportunities for the 2021 fall or 2022 summer that you can apply for now. №1: Quora Software Engineer — Machine Learning Intern 2022 First on our list is a machine learning internship offered by Quora. In this internship, you will be working on improving Quora’s existing machine learning systems, improving the user experience, and working with other machine learning engineers to implement different algorithms and systems efficiently. To apply for this internship, you need to be a student who knows the basics of machine learning and experience with Python or C++. №2: Moyyn Machine learning | AI Internship Next up is a 3 or 6 months machine learning and AI internship offered by Moyyn. Moyyn is a recruitment platform based in Germany that focuses on automating the matchmaking of candidates and companies. This internship will have you working on the algorithm of the platform as well as test the algorithm and optimize it. To apply for this internship, you need to be a student and know NLP, machine learning, and AI basics. №3: IBM Data Science and Engineering Internship Next up is a data science internship offered by IBM. This remote opportunity is available for students across Europe or the US, with the chance for international applicants. To apply for this internship, you need to have intermediate Python skills and knowledge of NLP, have a solid foundation of data structures, and be fluent in English. towardsdatascience.com №4: Woohoo Machine Learning Internship Woohoo in Singapore offers this remote internship for students with MS in computer science, knowledge of distributed systems, and software engineering. You also need to have experience building, maintaining, and extending web-scale production systems and know-how to perform AB testing and machine learning algorithms. №5: Workiva Data Science Internship Workiva offers a remote internship to anyone residing in the US or has a work permit in the US. During this internship, you will participate in discovery, gathering, and exploratory data analysis and help the machine learning engineers design, develop, and optimize their data pipelines and test large-scale models. №6: HackerRank Software Engineer Internship Next up is s remote internship from HackerRank if you reside in India. If you love to write code and connect with other developers and engineers worldwide, then this is the internship for you. To apply for this internship, you will need to solve 3 test challenges and submit your resume; that is it. №7: Snackpass Data Science Internship Snackpass, an ordering and dine-in app based in the US, offers this remote internship where you can help answer important business questions for promoting restaurants. Design and build machine learning models for hundreds of users, test and optimize these models for different use cases. towardsdatascience.com №8: 1Qbit Machine Learning Researcher Internship If you’re into machine learning and curious about quantum computing, then this internship by 1QBit is ideal for you. This 8 months remote internship will allow you to utilize your machine learning background to address challenging industry problems on both quantum and classical sides and leverage your knowledge to develop new tools and computing capabilities. №9: Shopify Data Science Internship Shopify is making opening your own private business as easy as buying a product online. Shopify offers an internship where you can build machine learning models that enhances Shopify’s intelligence and help people make better decisions about their business. You will also get the chance to contribute to the open-source community and make lasting connections. №10: VidMob Data Science/ ML Internship Next up is a data science and machine learning internship by VidMob, where you can apply your expertise in quantitative analysis, machine learning, and data visualization to real-life problems. You can also analyze the results of different models to understand their performance better and improve it further. Takeaways No matter what degree you go to school for, there is always a gap between what we learn in the university and what we will actually do after we graduate and start looking for jobs. Not just that, but often, after we graduate and start going through the job-hunting nightmare — you better start if before you graduate, though — we realize that we don’t even have the experience needed for an entire level position. towardsdatascience.com Thankfully, we can gain the experience we need and make some money in the process by trying to obtain an internship in a company. Often most companies open up chances for internships during the summer vacation, and applying for these internships opens during the fall of the year before. So, basically, now is the ideal time to start looking and applying for next year’s summer internships. Since covid hit, all aspects of our lives got disturbed, including the chances to apply for internships abroad. However, because of that, many companies are now allowing the chance for remote internships, with the possibility to make it in-person if things get a little better before next summer. In this article, I proposed 10 internships for this fall or next summer that you can apply for today to gain the experience you need to land the job you want after you graduate. Good luck… Ph.D. student working on Quantum Computing. Traveler, writing lover, science enthusiast, and CS instructor. Get in touch with me bit.ly/2CvFAw6 15  15\\xa0 15  Your home for data science. A Medium publication sharing concepts, ideas and codes.'"
            ]
          },
          "metadata": {},
          "execution_count": 11
        }
      ]
    },
    {
      "cell_type": "code",
      "metadata": {
        "id": "Sh1r7zoqNYu1"
      },
      "source": [
        "article = article.replace(\".\", \".<eos>\")\n",
        "article = article.replace(\"!\", \"!<eos>\")\n",
        "article = article.replace(\"?\", \"?<eos>\")\n",
        "sentences = article.split('<eos>')"
      ],
      "execution_count": 12,
      "outputs": []
    },
    {
      "cell_type": "code",
      "metadata": {
        "colab": {
          "base_uri": "https://localhost:8080/"
        },
        "id": "A3_k6gWeOD3j",
        "outputId": "a3a838a2-5a02-495f-916a-4439607262c3"
      },
      "source": [
        "sentences"
      ],
      "execution_count": 13,
      "outputs": [
        {
          "output_type": "execute_result",
          "data": {
            "text/plain": [
              "['Sign in 10 Remote 2021/2022 Data Science Internships You Should Apply to If You’re a Student Sara A.',\n",
              " ' Metwalli 15 hours ago·5 min read As a student, who has been in school almost my entire life, I always felt that the knowledge we learn in school is theoretical.',\n",
              " ' That feeling only grew whenever I talked to my friends and colleagues who worked in the industry or had some experiences outside the university.',\n",
              " ' This gap between what we learn in our degrees and what we actually need to succeed and build a career is one of the reasons internships are necessary for any student.',\n",
              " ' Although internships are important for basically any student regardless of their major, it’s even more important if you’re a student in a tech field.',\n",
              " ' In tech, we study the history of a field, the tools we can use, and some field applications.',\n",
              " ' But, university classes are never enough to build a real-life experience that will help you launch a career once you graduate.',\n",
              " ' Here, internships make a difference, not just helping students gain experience and know what to expect when they get a job after graduation.',\n",
              " ' Still, it also helps them decide what career they want to pursue after obtaining their degree.',\n",
              " ' So, if you’re a student, undergrad or post-grad, trying to get an internship, it will definitely change the way you view your field and help you get a job later.',\n",
              " ' towardsdatascience.',\n",
              " 'com In September of every year, companies worldwide open up the applications for the following year’s summer.',\n",
              " ' So, today, I will walk you through 10 remote internship opportunities for the 2021 fall or 2022 summer that you can apply for now.',\n",
              " ' №1: Quora Software Engineer — Machine Learning Intern 2022 First on our list is a machine learning internship offered by Quora.',\n",
              " ' In this internship, you will be working on improving Quora’s existing machine learning systems, improving the user experience, and working with other machine learning engineers to implement different algorithms and systems efficiently.',\n",
              " ' To apply for this internship, you need to be a student who knows the basics of machine learning and experience with Python or C++.',\n",
              " ' №2: Moyyn Machine learning | AI Internship Next up is a 3 or 6 months machine learning and AI internship offered by Moyyn.',\n",
              " ' Moyyn is a recruitment platform based in Germany that focuses on automating the matchmaking of candidates and companies.',\n",
              " ' This internship will have you working on the algorithm of the platform as well as test the algorithm and optimize it.',\n",
              " ' To apply for this internship, you need to be a student and know NLP, machine learning, and AI basics.',\n",
              " ' №3: IBM Data Science and Engineering Internship Next up is a data science internship offered by IBM.',\n",
              " ' This remote opportunity is available for students across Europe or the US, with the chance for international applicants.',\n",
              " ' To apply for this internship, you need to have intermediate Python skills and knowledge of NLP, have a solid foundation of data structures, and be fluent in English.',\n",
              " ' towardsdatascience.',\n",
              " 'com №4: Woohoo Machine Learning Internship Woohoo in Singapore offers this remote internship for students with MS in computer science, knowledge of distributed systems, and software engineering.',\n",
              " ' You also need to have experience building, maintaining, and extending web-scale production systems and know-how to perform AB testing and machine learning algorithms.',\n",
              " ' №5: Workiva Data Science Internship Workiva offers a remote internship to anyone residing in the US or has a work permit in the US.',\n",
              " ' During this internship, you will participate in discovery, gathering, and exploratory data analysis and help the machine learning engineers design, develop, and optimize their data pipelines and test large-scale models.',\n",
              " ' №6: HackerRank Software Engineer Internship Next up is s remote internship from HackerRank if you reside in India.',\n",
              " ' If you love to write code and connect with other developers and engineers worldwide, then this is the internship for you.',\n",
              " ' To apply for this internship, you will need to solve 3 test challenges and submit your resume; that is it.',\n",
              " ' №7: Snackpass Data Science Internship Snackpass, an ordering and dine-in app based in the US, offers this remote internship where you can help answer important business questions for promoting restaurants.',\n",
              " ' Design and build machine learning models for hundreds of users, test and optimize these models for different use cases.',\n",
              " ' towardsdatascience.',\n",
              " 'com №8: 1Qbit Machine Learning Researcher Internship If you’re into machine learning and curious about quantum computing, then this internship by 1QBit is ideal for you.',\n",
              " ' This 8 months remote internship will allow you to utilize your machine learning background to address challenging industry problems on both quantum and classical sides and leverage your knowledge to develop new tools and computing capabilities.',\n",
              " ' №9: Shopify Data Science Internship Shopify is making opening your own private business as easy as buying a product online.',\n",
              " ' Shopify offers an internship where you can build machine learning models that enhances Shopify’s intelligence and help people make better decisions about their business.',\n",
              " ' You will also get the chance to contribute to the open-source community and make lasting connections.',\n",
              " ' №10: VidMob Data Science/ ML Internship Next up is a data science and machine learning internship by VidMob, where you can apply your expertise in quantitative analysis, machine learning, and data visualization to real-life problems.',\n",
              " ' You can also analyze the results of different models to understand their performance better and improve it further.',\n",
              " ' Takeaways No matter what degree you go to school for, there is always a gap between what we learn in the university and what we will actually do after we graduate and start looking for jobs.',\n",
              " ' Not just that, but often, after we graduate and start going through the job-hunting nightmare — you better start if before you graduate, though — we realize that we don’t even have the experience needed for an entire level position.',\n",
              " ' towardsdatascience.',\n",
              " 'com Thankfully, we can gain the experience we need and make some money in the process by trying to obtain an internship in a company.',\n",
              " ' Often most companies open up chances for internships during the summer vacation, and applying for these internships opens during the fall of the year before.',\n",
              " ' So, basically, now is the ideal time to start looking and applying for next year’s summer internships.',\n",
              " ' Since covid hit, all aspects of our lives got disturbed, including the chances to apply for internships abroad.',\n",
              " ' However, because of that, many companies are now allowing the chance for remote internships, with the possibility to make it in-person if things get a little better before next summer.',\n",
              " ' In this article, I proposed 10 internships for this fall or next summer that you can apply for today to gain the experience you need to land the job you want after you graduate.',\n",
              " ' Good luck… Ph.',\n",
              " 'D.',\n",
              " ' student working on Quantum Computing.',\n",
              " ' Traveler, writing lover, science enthusiast, and CS instructor.',\n",
              " ' Get in touch with me bit.',\n",
              " 'ly/2CvFAw6 15  15\\xa0 15  Your home for data science.',\n",
              " ' A Medium publication sharing concepts, ideas and codes.',\n",
              " '']"
            ]
          },
          "metadata": {},
          "execution_count": 13
        }
      ]
    },
    {
      "cell_type": "code",
      "metadata": {
        "colab": {
          "base_uri": "https://localhost:8080/"
        },
        "id": "f3NyjyV7OGsm",
        "outputId": "e5c73b7a-d616-425a-f275-9d232361d0c4"
      },
      "source": [
        "max_chunk = 500\n",
        "current_chunk = 0\n",
        "chunks = []\n",
        "\n",
        "for sentence in sentences:\n",
        "  if len(chunks) == current_chunk + 1:\n",
        "    if len(chunks[current_chunk]) + len(sentence.split(\" \")) <= max_chunk:\n",
        "      chunks[current_chunk].extend(sentence.split(\" \"))\n",
        "    else:\n",
        "      current_chunk += 1\n",
        "      chunks.append(sentence.split(\" \"))\n",
        "\n",
        "  else:\n",
        "    print(current_chunk)\n",
        "    chunks.append(sentence.split(\" \"))"
      ],
      "execution_count": 14,
      "outputs": [
        {
          "output_type": "stream",
          "name": "stdout",
          "text": [
            "0\n"
          ]
        }
      ]
    },
    {
      "cell_type": "code",
      "metadata": {
        "id": "01_kKuA-RTRh"
      },
      "source": [
        "for id in range(len(chunks)):\n",
        "  chunks[id] = \" \".join(chunks[id])"
      ],
      "execution_count": 15,
      "outputs": []
    },
    {
      "cell_type": "code",
      "metadata": {
        "colab": {
          "base_uri": "https://localhost:8080/",
          "height": 137
        },
        "id": "XguGGUxhSHYb",
        "outputId": "04ab58bc-6b83-4301-a68c-1cef2a907a35"
      },
      "source": [
        "chunks[0]"
      ],
      "execution_count": 16,
      "outputs": [
        {
          "output_type": "execute_result",
          "data": {
            "application/vnd.google.colaboratory.intrinsic+json": {
              "type": "string"
            },
            "text/plain": [
              "'Sign in 10 Remote 2021/2022 Data Science Internships You Should Apply to If You’re a Student Sara A.  Metwalli 15 hours ago·5 min read As a student, who has been in school almost my entire life, I always felt that the knowledge we learn in school is theoretical.  That feeling only grew whenever I talked to my friends and colleagues who worked in the industry or had some experiences outside the university.  This gap between what we learn in our degrees and what we actually need to succeed and build a career is one of the reasons internships are necessary for any student.  Although internships are important for basically any student regardless of their major, it’s even more important if you’re a student in a tech field.  In tech, we study the history of a field, the tools we can use, and some field applications.  But, university classes are never enough to build a real-life experience that will help you launch a career once you graduate.  Here, internships make a difference, not just helping students gain experience and know what to expect when they get a job after graduation.  Still, it also helps them decide what career they want to pursue after obtaining their degree.  So, if you’re a student, undergrad or post-grad, trying to get an internship, it will definitely change the way you view your field and help you get a job later.  towardsdatascience. com In September of every year, companies worldwide open up the applications for the following year’s summer.  So, today, I will walk you through 10 remote internship opportunities for the 2021 fall or 2022 summer that you can apply for now.  №1: Quora Software Engineer — Machine Learning Intern 2022 First on our list is a machine learning internship offered by Quora.  In this internship, you will be working on improving Quora’s existing machine learning systems, improving the user experience, and working with other machine learning engineers to implement different algorithms and systems efficiently.  To apply for this internship, you need to be a student who knows the basics of machine learning and experience with Python or C++.  №2: Moyyn Machine learning | AI Internship Next up is a 3 or 6 months machine learning and AI internship offered by Moyyn.  Moyyn is a recruitment platform based in Germany that focuses on automating the matchmaking of candidates and companies.  This internship will have you working on the algorithm of the platform as well as test the algorithm and optimize it.  To apply for this internship, you need to be a student and know NLP, machine learning, and AI basics.  №3: IBM Data Science and Engineering Internship Next up is a data science internship offered by IBM.  This remote opportunity is available for students across Europe or the US, with the chance for international applicants.'"
            ]
          },
          "metadata": {},
          "execution_count": 16
        }
      ]
    },
    {
      "cell_type": "code",
      "metadata": {
        "id": "l8bZl7feSI6b"
      },
      "source": [
        "res = summarizer(chunks, max_length = 120, min_length = 30, do_sample = False)"
      ],
      "execution_count": 17,
      "outputs": []
    },
    {
      "cell_type": "code",
      "metadata": {
        "colab": {
          "base_uri": "https://localhost:8080/"
        },
        "id": "nLNyITQRShnz",
        "outputId": "dc7f43cb-e6a0-4ff1-c04b-0846e8da6b15"
      },
      "source": [
        "res"
      ],
      "execution_count": 18,
      "outputs": [
        {
          "output_type": "execute_result",
          "data": {
            "text/plain": [
              "[{'summary_text': ' Companies worldwide open up applications for the following year’s summer . Quora Software Engineer — Machine Learning Intern 2022 is a machine learning internship offered by IBM . Moyyn is a recruitment platform based in Germany that focuses on automating the matchmaking of candidates and companies .'},\n",
              " {'summary_text': ' Woohoo in Singapore offers this remote internship for students with MS in computer science, knowledge of distributed systems, and software engineering . Snackpass, an ordering and dine-in app based in the US, offers a remote internship where you can help answer important business questions for promoting restaurants . VidMob offers a data science and machine learning internship by VidMob .'},\n",
              " {'summary_text': ' Often most companies open up chances for internships during the summer vacation, and applying for these internships opens during the fall of the year before . Since covid hit, many companies are now allowing the chance for remote internships, with the possibility to make it in-person if things get a little better before next summer . In this article, I proposed 10 internships for this fall or next summer that you can apply for today .'}]"
            ]
          },
          "metadata": {},
          "execution_count": 18
        }
      ]
    },
    {
      "cell_type": "code",
      "metadata": {
        "colab": {
          "base_uri": "https://localhost:8080/",
          "height": 137
        },
        "id": "sL5Gvq17SohZ",
        "outputId": "90a79920-619a-409b-a73f-3b89d08d3566"
      },
      "source": [
        "\" \".join([summ['summary_text'] for summ in res])"
      ],
      "execution_count": 19,
      "outputs": [
        {
          "output_type": "execute_result",
          "data": {
            "application/vnd.google.colaboratory.intrinsic+json": {
              "type": "string"
            },
            "text/plain": [
              "' Companies worldwide open up applications for the following year’s summer . Quora Software Engineer — Machine Learning Intern 2022 is a machine learning internship offered by IBM . Moyyn is a recruitment platform based in Germany that focuses on automating the matchmaking of candidates and companies .  Woohoo in Singapore offers this remote internship for students with MS in computer science, knowledge of distributed systems, and software engineering . Snackpass, an ordering and dine-in app based in the US, offers a remote internship where you can help answer important business questions for promoting restaurants . VidMob offers a data science and machine learning internship by VidMob .  Often most companies open up chances for internships during the summer vacation, and applying for these internships opens during the fall of the year before . Since covid hit, many companies are now allowing the chance for remote internships, with the possibility to make it in-person if things get a little better before next summer . In this article, I proposed 10 internships for this fall or next summer that you can apply for today .'"
            ]
          },
          "metadata": {},
          "execution_count": 19
        }
      ]
    },
    {
      "cell_type": "code",
      "metadata": {
        "id": "08WwhqaXTNGY"
      },
      "source": [
        "text = \" \".join([summ['summary_text'] for summ in res])"
      ],
      "execution_count": 20,
      "outputs": []
    },
    {
      "cell_type": "code",
      "metadata": {
        "id": "uOTt14pkTiYT"
      },
      "source": [
        "with open('summary.txt','w') as f:\n",
        "  f.write(text)"
      ],
      "execution_count": 21,
      "outputs": []
    }
  ]
}